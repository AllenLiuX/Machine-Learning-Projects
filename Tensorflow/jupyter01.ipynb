{
  "cells": [
    {
      "cell_type": "code",
      "execution_count": 2,
      "outputs": [
        {
          "name": "stderr",
          "text": [
            "/System/Volumes/Data/Users/vincentl/PycharmProjects/venv/new interpreter/lib/python3.7/site-packages/tensorflow/python/framework/dtypes.py:516: FutureWarning: Passing (type, 1) or \u00271type\u0027 as a synonym of type is deprecated; in a future version of numpy, it will be understood as (type, (1,)) / \u0027(1,)type\u0027.\n  _np_qint8 \u003d np.dtype([(\"qint8\", np.int8, 1)])\n/System/Volumes/Data/Users/vincentl/PycharmProjects/venv/new interpreter/lib/python3.7/site-packages/tensorflow/python/framework/dtypes.py:517: FutureWarning: Passing (type, 1) or \u00271type\u0027 as a synonym of type is deprecated; in a future version of numpy, it will be understood as (type, (1,)) / \u0027(1,)type\u0027.\n  _np_quint8 \u003d np.dtype([(\"quint8\", np.uint8, 1)])\n/System/Volumes/Data/Users/vincentl/PycharmProjects/venv/new interpreter/lib/python3.7/site-packages/tensorflow/python/framework/dtypes.py:518: FutureWarning: Passing (type, 1) or \u00271type\u0027 as a synonym of type is deprecated; in a future version of numpy, it will be understood as (type, (1,)) / \u0027(1,)type\u0027.\n  _np_qint16 \u003d np.dtype([(\"qint16\", np.int16, 1)])\n/System/Volumes/Data/Users/vincentl/PycharmProjects/venv/new interpreter/lib/python3.7/site-packages/tensorflow/python/framework/dtypes.py:519: FutureWarning: Passing (type, 1) or \u00271type\u0027 as a synonym of type is deprecated; in a future version of numpy, it will be understood as (type, (1,)) / \u0027(1,)type\u0027.\n  _np_quint16 \u003d np.dtype([(\"quint16\", np.uint16, 1)])\n/System/Volumes/Data/Users/vincentl/PycharmProjects/venv/new interpreter/lib/python3.7/site-packages/tensorflow/python/framework/dtypes.py:520: FutureWarning: Passing (type, 1) or \u00271type\u0027 as a synonym of type is deprecated; in a future version of numpy, it will be understood as (type, (1,)) / \u0027(1,)type\u0027.\n  _np_qint32 \u003d np.dtype([(\"qint32\", np.int32, 1)])\n/System/Volumes/Data/Users/vincentl/PycharmProjects/venv/new interpreter/lib/python3.7/site-packages/tensorflow/python/framework/dtypes.py:525: FutureWarning: Passing (type, 1) or \u00271type\u0027 as a synonym of type is deprecated; in a future version of numpy, it will be understood as (type, (1,)) / \u0027(1,)type\u0027.\n  np_resource \u003d np.dtype([(\"resource\", np.ubyte, 1)])\n",
            "/System/Volumes/Data/Users/vincentl/PycharmProjects/venv/new interpreter/lib/python3.7/site-packages/tensorboard/compat/tensorflow_stub/dtypes.py:541: FutureWarning: Passing (type, 1) or \u00271type\u0027 as a synonym of type is deprecated; in a future version of numpy, it will be understood as (type, (1,)) / \u0027(1,)type\u0027.\n  _np_qint8 \u003d np.dtype([(\"qint8\", np.int8, 1)])\n/System/Volumes/Data/Users/vincentl/PycharmProjects/venv/new interpreter/lib/python3.7/site-packages/tensorboard/compat/tensorflow_stub/dtypes.py:542: FutureWarning: Passing (type, 1) or \u00271type\u0027 as a synonym of type is deprecated; in a future version of numpy, it will be understood as (type, (1,)) / \u0027(1,)type\u0027.\n  _np_quint8 \u003d np.dtype([(\"quint8\", np.uint8, 1)])\n/System/Volumes/Data/Users/vincentl/PycharmProjects/venv/new interpreter/lib/python3.7/site-packages/tensorboard/compat/tensorflow_stub/dtypes.py:543: FutureWarning: Passing (type, 1) or \u00271type\u0027 as a synonym of type is deprecated; in a future version of numpy, it will be understood as (type, (1,)) / \u0027(1,)type\u0027.\n  _np_qint16 \u003d np.dtype([(\"qint16\", np.int16, 1)])\n/System/Volumes/Data/Users/vincentl/PycharmProjects/venv/new interpreter/lib/python3.7/site-packages/tensorboard/compat/tensorflow_stub/dtypes.py:544: FutureWarning: Passing (type, 1) or \u00271type\u0027 as a synonym of type is deprecated; in a future version of numpy, it will be understood as (type, (1,)) / \u0027(1,)type\u0027.\n  _np_quint16 \u003d np.dtype([(\"quint16\", np.uint16, 1)])\n/System/Volumes/Data/Users/vincentl/PycharmProjects/venv/new interpreter/lib/python3.7/site-packages/tensorboard/compat/tensorflow_stub/dtypes.py:545: FutureWarning: Passing (type, 1) or \u00271type\u0027 as a synonym of type is deprecated; in a future version of numpy, it will be understood as (type, (1,)) / \u0027(1,)type\u0027.\n  _np_qint32 \u003d np.dtype([(\"qint32\", np.int32, 1)])\n/System/Volumes/Data/Users/vincentl/PycharmProjects/venv/new interpreter/lib/python3.7/site-packages/tensorboard/compat/tensorflow_stub/dtypes.py:550: FutureWarning: Passing (type, 1) or \u00271type\u0027 as a synonym of type is deprecated; in a future version of numpy, it will be understood as (type, (1,)) / \u0027(1,)type\u0027.\n  np_resource \u003d np.dtype([(\"resource\", np.ubyte, 1)])\n"
          ],
          "output_type": "stream"
        }
      ],
      "source": "import tensorflow as tf\nimport numpy as np\n",
      "metadata": {
        "pycharm": {
          "metadata": false,
          "name": "#%%\n",
          "is_executing": false
        }
      }
    },
    {
      "cell_type": "code",
      "execution_count": 3,
      "outputs": [],
      "source": "x_data \u003d np.random.rand(100).astype(np.float32)\ny_data \u003d x_data*0.1 + 0.3\nWeights \u003d tf.Variable(tf.random_uniform([1], -1.0, 1.0))\nbiases \u003d tf.Variable(tf.zeros([1]))\n\ny \u003d Weights*x_data + biases",
      "metadata": {
        "pycharm": {
          "metadata": false,
          "name": "#%%\n",
          "is_executing": false
        }
      }
    },
    {
      "cell_type": "code",
      "execution_count": 4,
      "outputs": [
        {
          "name": "stdout",
          "text": [
            "0 [-0.0542931] [0.5364815]\n20 [0.04033437] [0.33240464]\n40 [0.08369435] [0.30885568]\n60 [0.09554392] [0.30242014]\n80 [0.09878223] [0.30066139]\n100 [0.09966721] [0.30018076]\n120 [0.09990907] [0.3000494]\n140 [0.09997516] [0.3000135]\n160 [0.09999321] [0.3000037]\n180 [0.09999814] [0.30000103]\n200 [0.09999947] [0.3000003]\n"
          ],
          "output_type": "stream"
        }
      ],
      "source": "loss \u003d tf.reduce_mean(tf.square(y-y_data))\noptimizer \u003d tf.train.GradientDescentOptimizer(0.5)\ntrain \u003d optimizer.minimize(loss)\ninit \u003d tf.global_variables_initializer()  # 替换成这样就好\n\nsess \u003d tf.Session()\nsess.run(init)          # Very important\n\nfor step in range(201):\n    sess.run(train)\n    if step % 20 \u003d\u003d 0:\n        print(step, sess.run(Weights), sess.run(biases))",
      "metadata": {
        "pycharm": {
          "metadata": false,
          "name": "#%%\n",
          "is_executing": false
        }
      }
    },
    {
      "cell_type": "code",
      "execution_count": 5,
      "outputs": [
        {
          "name": "stdout",
          "text": [
            "Tensor(\"MatMul:0\", shape\u003d(1, 1), dtype\u003dint32)\n[[13]]\n[[13]]\n"
          ],
          "output_type": "stream"
        }
      ],
      "source": "mat1 \u003d tf.constant([[1,2]])\nmat2 \u003d tf.constant([[3],[5]])\nproduct \u003d tf.matmul(mat1, mat2)\nprint(product)\n\nsess \u003d tf.Session()\nresult \u003d sess.run(product)\nprint(result)\nsess.close()\n\nwith tf.Session() as sess:\n    result2 \u003d sess.run(product)\n    print(result2)\n\n",
      "metadata": {
        "pycharm": {
          "metadata": false,
          "name": "#%%\n",
          "is_executing": false
        }
      }
    }
  ],
  "metadata": {
    "language_info": {
      "codemirror_mode": {
        "name": "ipython",
        "version": 2
      },
      "file_extension": ".py",
      "mimetype": "text/x-python",
      "name": "python",
      "nbconvert_exporter": "python",
      "pygments_lexer": "ipython2",
      "version": "2.7.6"
    },
    "kernelspec": {
      "name": "pycharm-3f1b4da7",
      "language": "python",
      "display_name": "PyCharm (PycharmProjects)"
    },
    "stem_cell": {
      "cell_type": "raw",
      "source": "\n",
      "metadata": {
        "pycharm": {
          "metadata": false
        }
      }
    }
  },
  "nbformat": 4,
  "nbformat_minor": 0
}